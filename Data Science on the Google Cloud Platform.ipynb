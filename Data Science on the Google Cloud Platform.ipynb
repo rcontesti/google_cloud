{
 "cells": [
  {
   "cell_type": "code",
   "execution_count": null,
   "metadata": {
    "collapsed": true
   },
   "outputs": [],
   "source": [
    "# Book by \n",
    "# Need to learn some Unix Scripting. That's the language of the cloud\n",
    "# Python is handy for data science but the thing is Unix.\n",
    "# Otherwise you have no idea of what is going on"
   ]
  },
  {
   "cell_type": "markdown",
   "metadata": {},
   "source": [
    "## Chapter 1\n",
    "\n",
    " On the cloud shell:\n",
    "1. Create a Project \n",
    "2. Create a single region bucket with the same name ad the project\n",
    "**Billing must be enabled**\n",
    "3. clone the repo:\n",
    ".\n",
    "\n",
    "    gcloud projects create rcontesti-gcp\n",
    "    \n",
    "    gsutil mb -l us-east1 gs://rcontesti-gcp\n",
    "    gsutil mb -l us-east1 gs://cloud-training-demos-ml/flights/raw/\n",
    "    \n",
    "    gcloud init --project rcontesti-gcp\n",
    "    \n",
    "    git clone https://github.com/GoogleCloudPlatform/data-science-on-gcp"
   ]
  },
  {
   "cell_type": "markdown",
   "metadata": {},
   "source": [
    "## Chapter 2 Ingest Data\n",
    "\n",
    "    cd data-science-on-gcp\n",
    "    mkdir data\n",
    "    cd data\n",
    "    \n",
    "\n",
    "\n",
    "### 1.Ingest\n",
    "    bash ../02_ingest/download.sh\n",
    "    ls -lrt\n",
    "\n",
    "### Exploration and clean up\n",
    "Unzip all the files and name them appropriately\n",
    "    \n",
    "    02_ingest/zip_to_csv.sh\n",
    "    \n",
    "check\n",
    "\n",
    "    head 201503.csv\n",
    "\n",
    "Uploading data to Google Cloud Storage.\n",
    "-m:=multithead manner\n",
    "copy all csvs to gs://cloud-training-demos-ml/flights/raw/\n",
    "\n",
    "    gsutil -m cp *.csv gs://rcontesti-gcp/flights/raw/\n",
    "    gsutil -m cp *.csv gs://cloud-training-demos-ml/flights/raw/\n",
    "    \n",
    "### Making Data Public\n",
    "\n",
    "    gsutil acl ch -R -g google.com:R \\\n",
    "\n",
    "     gs://cloud-training-demos-ml/flights/raw/\n",
    "     \n",
    "    gsutil acl ch -R -g google.com:R \\\n",
    "     gs://rcontesti-gcp/flights/raw/"
   ]
  },
  {
   "cell_type": "markdown",
   "metadata": {},
   "source": [
    "### All together\n",
    "change the bucket variable in upload.sh\n",
    "    \n",
    "    nano upload.sh\n",
    "\n",
    "execute ingest.sh    \n",
    "    bash ..02_ingest/ingest_2015.sh\n",
    "    \n",
    "execute monthlyupdate/ingest_flights.py --bucket specifing bucket and with yer 2016 month 01\n",
    "\n",
    "    monthlyupdate/ingest_flights.py --bucket $BUCKET --year $YEAR --month $MONTH\n",
    "    \n",
    "    "
   ]
  },
  {
   "cell_type": "markdown",
   "metadata": {},
   "source": [
    "## 3. SQL"
   ]
  },
  {
   "cell_type": "code",
   "execution_count": null,
   "metadata": {
    "collapsed": true
   },
   "outputs": [],
   "source": [
    "gcloud sql instances create flights\\\n",
    "--tier=db-n1-"
   ]
  }
 ],
 "metadata": {
  "kernelspec": {
   "display_name": "Python [conda root]",
   "language": "python",
   "name": "conda-root-py"
  },
  "language_info": {
   "codemirror_mode": {
    "name": "ipython",
    "version": 3
   },
   "file_extension": ".py",
   "mimetype": "text/x-python",
   "name": "python",
   "nbconvert_exporter": "python",
   "pygments_lexer": "ipython3",
   "version": "3.6.0"
  }
 },
 "nbformat": 4,
 "nbformat_minor": 2
}
