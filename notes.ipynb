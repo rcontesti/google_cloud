{
 "cells": [
  {
   "cell_type": "markdown",
   "metadata": {},
   "source": [
    "## 1. Set Up"
   ]
  },
  {
   "cell_type": "markdown",
   "metadata": {},
   "source": [
    "\n",
    "** Is the certificate received after completing a Coursera course or specialization the same as a Google Cloud certification?**\n",
    "\n",
    "No, the certificate received is a Coursera coursework completion certificate and not an official Google Cloud certification. To receive a Google Cloud certification you need to pass a Google Cloud certification exam which must be taken in-person at an official testing center. More information available here: https://cloud.google.com/certification/\n",
    "\n",
    "\n",
    "** I’ve passed all the Coursera courses for the Data Engineering on Google Cloud Platform Specialization. Will I be able to pass the Google Certified Professional Data Engineer certification exam?**\n",
    "\n",
    "Taking courses is a great way to familiarize yourself with the various components of Google Cloud Platform; however, actual real-world, hands-on experience is the best preparation for certification. Combine these courses and work experience and you are on your way to certification."
   ]
  }
 ],
 "metadata": {
  "kernelspec": {
   "display_name": "Python [conda root]",
   "language": "python",
   "name": "conda-root-py"
  },
  "language_info": {
   "codemirror_mode": {
    "name": "ipython",
    "version": 3
   },
   "file_extension": ".py",
   "mimetype": "text/x-python",
   "name": "python",
   "nbconvert_exporter": "python",
   "pygments_lexer": "ipython3",
   "version": "3.6.0"
  }
 },
 "nbformat": 4,
 "nbformat_minor": 2
}
