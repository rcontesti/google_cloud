{
 "cells": [
  {
   "cell_type": "markdown",
   "metadata": {},
   "source": [
    "# Complete example Rountrip for importing/ exporting processing\n",
    "\n",
    "Check: https://8081-dot-2332877-dot-devshell.appspot.com/notebooks/datalab/docs/tutorials/BigQuery/Importing%20and%20Exporting%20Data.ipynb"
   ]
  },
  {
   "cell_type": "markdown",
   "metadata": {},
   "source": [
    "<a id=\"Index\"></a>\n",
    "## Index\n",
    "0. [LoadData](#LoadData)\n",
    "1. [ArrangeData](#ArrangeData)"
   ]
  },
  {
   "cell_type": "markdown",
   "metadata": {},
   "source": [
    "<a id=\"Setup\"></a>\n",
    "## 0 Setup\n",
    "[Back to Index](#Index)"
   ]
  },
  {
   "cell_type": "code",
   "execution_count": null,
   "metadata": {
    "collapsed": true
   },
   "outputs": [],
   "source": [
    "from google.datalab import Context\n",
    "import google.datalab.bigquery as bq\n",
    "import google.datalab.storage as storage\n",
    "import pandas as pd\n",
    "\n",
    "try:\n",
    "  from StringIO import StringIO\n",
    "except ImportError:\n",
    "  from io import BytesIO as StringIO"
   ]
  },
  {
   "cell_type": "code",
   "execution_count": null,
   "metadata": {
    "collapsed": true
   },
   "outputs": [],
   "source": []
  },
  {
   "cell_type": "markdown",
   "metadata": {},
   "source": [
    "<a id=\"Index\"></a>\n",
    "# 1 LoadData\n",
    "[Back to Index](#Index)"
   ]
  },
  {
   "cell_type": "code",
   "execution_count": 40,
   "metadata": {
    "collapsed": false
   },
   "outputs": [
    {
     "name": "stderr",
     "output_type": "stream",
     "text": [
      "converted 'http://link' (ANSI_X3.4-1968) -> 'http://link' (UTF-8)\n",
      "--2017-06-28 14:03:35--  http://link/\n",
      "Resolving link (link)... failed: No address associated with hostname.\n",
      "wget: unable to resolve host address 'link'\n"
     ]
    }
   ],
   "source": [
    "%bash\n",
    "file_name=earthquakes.csv\n",
    "rm -f file_name\n",
    "wget http://earthquake.usgs.gov/earthquakes/feed/v1.0/summary/all_week.csv -O earthquakes.csv\n",
    "head earthquakes.csv"
   ]
  },
  {
   "cell_type": "markdown",
   "metadata": {},
   "source": [
    "# 2. Import\n",
    "[]"
   ]
  },
  {
   "cell_type": "code",
   "execution_count": 41,
   "metadata": {
    "collapsed": false
   },
   "outputs": [
    {
     "ename": "NameError",
     "evalue": "name 'file_name' is not defined",
     "output_type": "error",
     "traceback": [
      "\u001b[0;31m\u001b[0m",
      "\u001b[0;31mNameError\u001b[0mTraceback (most recent call last)",
      "\u001b[0;32m<ipython-input-41-691a77af05e0>\u001b[0m in \u001b[0;36m<module>\u001b[0;34m()\u001b[0m\n\u001b[1;32m      1\u001b[0m \u001b[0;31m# storageobj=storage.Object(\"gs://cbp100-171912\",\"earthquakes.csv\").read_stream()\u001b[0m\u001b[0;34m\u001b[0m\u001b[0;34m\u001b[0m\u001b[0m\n\u001b[0;32m----> 2\u001b[0;31m \u001b[0mfile_name\u001b[0m\u001b[0;34m\u001b[0m\u001b[0m\n\u001b[0m",
      "\u001b[0;31mNameError\u001b[0m: name 'file_name' is not defined"
     ]
    }
   ],
   "source": [
    "# storageobj=storage.Object(\"gs://cbp100-171912\",\"earthquakes.csv\").read_stream()\n",
    "\n"
   ]
  },
  {
   "cell_type": "code",
   "execution_count": 34,
   "metadata": {
    "collapsed": false
   },
   "outputs": [
    {
     "data": {
      "text/html": [
       "<table><tr><th>Bucket</th><th>Created</th></tr><tr><td>gs://cbp100-171912</td><td>2017-06-28 12:32:41.011000+00:00</td></tr></table>"
      ],
      "text/plain": [
       "<IPython.core.display.HTML object>"
      ]
     },
     "execution_count": 34,
     "metadata": {},
     "output_type": "execute_result"
    }
   ],
   "source": [
    "%gcs list"
   ]
  },
  {
   "cell_type": "code",
   "execution_count": 42,
   "metadata": {
    "collapsed": false
   },
   "outputs": [
    {
     "name": "stdout",
     "output_type": "stream",
     "text": [
      "Bucket: cbp100-171912-pruebas_ruben\n",
      "Object: gs://cbp100-171912-pruebas_ruben/tmp/earthquakes.csv\n"
     ]
    }
   ],
   "source": [
    "# Create Path\n",
    "project = Context.default().project_id\n",
    "file_name=\"earthquakes.csv\"\n",
    "sample_bucket_name = project + '-pruebas_ruben'\n",
    "sample_bucket_path = 'gs://' + sample_bucket_name\n",
    "sample_bucket_object = sample_bucket_path + '/tmp/'+file_name\n",
    "print('Bucket: ' + sample_bucket_name)\n",
    "print('Object: ' + sample_bucket_object)\n"
   ]
  },
  {
   "cell_type": "code",
   "execution_count": null,
   "metadata": {
    "collapsed": true
   },
   "outputs": [],
   "source": [
    "# Create Bucket\n",
    "sample_bucket = storage.Bucket(sample_bucket_name)\n",
    "sample_bucket.create()\n",
    "sample_bucket.exists()"
   ]
  },
  {
   "cell_type": "code",
   "execution_count": null,
   "metadata": {
    "collapsed": true
   },
   "outputs": [],
   "source": [
    "# Store Table in Bucket\n"
   ]
  }
 ],
 "metadata": {
  "kernelspec": {
   "display_name": "Python 2",
   "language": "python",
   "name": "python2"
  },
  "language_info": {
   "codemirror_mode": {
    "name": "ipython",
    "version": 2
   },
   "file_extension": ".py",
   "mimetype": "text/x-python",
   "name": "python",
   "nbconvert_exporter": "python",
   "pygments_lexer": "ipython2",
   "version": "2.7.9"
  }
 },
 "nbformat": 4,
 "nbformat_minor": 2
}
