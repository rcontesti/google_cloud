{
 "cells": [
  {
   "cell_type": "markdown",
   "metadata": {},
   "source": [
    "<a id=\"index\"></a>\n",
    "## Index\n",
    "\n",
    "0.[Install](#install)\n",
    "\n",
    "1.[Intro](#install)\n",
    "\n",
    "2.[Command Line](#commandline)\n",
    "\n",
    "3.[Concepts](#clodshell)\n",
    "\n",
    "4.[Buckets Storage](#4)"
   ]
  },
  {
   "cell_type": "markdown",
   "metadata": {},
   "source": [
    "<a id=\"2\"></a>\n",
    "\n",
    "## 1.Intro\n",
    "\n",
    "[Back to Index](#index)\n",
    "\n",
    "There mainly two different tools: \n",
    "* **gcloud** to create projects, vms, disks and  initiate\n",
    "\n",
    "* **gsutil** to manage buckets of data\n",
    "\n",
    "With gcloud:\n",
    "\n",
    "    gcloud [projects|instances|disks] [create|delete|list] $NAME\n",
    "    \n",
    "    gcloud init [--skip-diagnostics] [--project $NAME] # to configure\n",
    "\n",
    "With gsutil:\n",
    "\n",
    "    gsutil [mv|rm -r|cp] [-c class] [-l location] [-p proj_id] $URL...\n",
    "    \n",
    "    \n",
    "    "
   ]
  },
  {
   "cell_type": "markdown",
   "metadata": {},
   "source": [
    "<a id=\"2\"></a>\n",
    "\n",
    "## 2.Command Line\n",
    "\n",
    "[Back to Index](#index)\n",
    "\n",
    "2.1 [Project](#21)\n",
    "\n",
    "2.2 [VM](#22)\n",
    "\n",
    "2.3 [Disk](#23)\n"
   ]
  },
  {
   "cell_type": "markdown",
   "metadata": {},
   "source": [
    "<a id=\"21\"></a>\n",
    "### 2.1 create/delete project\n",
    "[Back to chapter index](#index)"
   ]
  },
  {
   "cell_type": "code",
   "execution_count": 3,
   "metadata": {},
   "outputs": [],
   "source": [
    "!gcloud projects create $PROJECT"
   ]
  },
  {
   "cell_type": "markdown",
   "metadata": {},
   "source": [
    "<a id=\"22\"></a>\n",
    "\n",
    "### 2.2 create/delete a VM \n",
    "[Back to Chapter Index](#2)\n",
    "\n",
    "(It boots a 10gb disk, but not a persistent one).\n"
   ]
  },
  {
   "cell_type": "code",
   "execution_count": null,
   "metadata": {
    "collapsed": true
   },
   "outputs": [],
   "source": [
    "!gcloud compute instances create $INSTANCE --zone $ZONE"
   ]
  },
  {
   "cell_type": "code",
   "execution_count": null,
   "metadata": {
    "collapsed": true
   },
   "outputs": [],
   "source": [
    "#Or especify everithing\n",
    "    \n",
    "    !gcloud compute instances create $INSTANCE \\\n",
    "     --machine-type n1-highmem-8 \\\n",
    "     --no-boot-disk-auto-delete \\\n",
    "     --zone $ZONE \\\n",
    "     --tags http-server,https-server \\\n",
    "     --address $IPID"
   ]
  },
  {
   "cell_type": "markdown",
   "metadata": {},
   "source": [
    "<a id=\"23\"></a>\n",
    "\n",
    "### 2.3 Create a Persistent Disk\n",
    "[Back to Chapter Index](#2)"
   ]
  },
  {
   "cell_type": "markdown",
   "metadata": {},
   "source": [
    "<a id=\"3\"></a>\n",
    "\n",
    "## 3.Concepts\n",
    "\n",
    "[Back to Index](#index)\n",
    "\n",
    "3.1 [Cloud Shell](#21)"
   ]
  },
  {
   "cell_type": "markdown",
   "metadata": {},
   "source": [
    "<a id=\"31\"></a>\n",
    "\n",
    "### 3.1 Cloud Shell\n",
    "[Back to Chapter Index](#3)\n",
    "\n",
    "An ephimeral temporal applications. But is attached to the persistent disk of your account. Files that you install are persisted across different instances that you initiate."
   ]
  },
  {
   "cell_type": "markdown",
   "metadata": {},
   "source": [
    "<a id=\"4\"></a>\n",
    "\n",
    "### 4 Buckets\n",
    "[Back to Index](#index)"
   ]
  },
  {
   "cell_type": "code",
   "execution_count": null,
   "metadata": {
    "collapsed": true
   },
   "outputs": [],
   "source": [
    "# Create/remove (mb/rm) a Cloud Storage bucket\n",
    "!gsutil mb gs://my-bucket-555\n",
    "\n",
    "# Upload some data to the Cloud Storage bucket you created\n",
    "!gsutil cp test.dat gs://my-bucket-555"
   ]
  }
 ],
 "metadata": {
  "kernelspec": {
   "display_name": "Python [conda root]",
   "language": "python",
   "name": "conda-root-py"
  },
  "language_info": {
   "codemirror_mode": {
    "name": "ipython",
    "version": 3
   },
   "file_extension": ".py",
   "mimetype": "text/x-python",
   "name": "python",
   "nbconvert_exporter": "python",
   "pygments_lexer": "ipython3",
   "version": "3.6.0"
  }
 },
 "nbformat": 4,
 "nbformat_minor": 2
}
